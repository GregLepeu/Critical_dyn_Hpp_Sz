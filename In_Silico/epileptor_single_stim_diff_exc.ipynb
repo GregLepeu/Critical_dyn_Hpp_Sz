{
 "cells": [
  {
   "cell_type": "code",
   "execution_count": 87,
   "id": "a2ed91d0-6748-409f-8081-78e7a421f8e8",
   "metadata": {},
   "outputs": [],
   "source": [
    "import numpy as np\n",
    "import matplotlib.pyplot as plt\n",
    "from scipy.optimize import fsolve\n",
    "import seaborn as sns"
   ]
  },
  {
   "cell_type": "markdown",
   "id": "077ec2df-dfe0-4883-af4c-8210f6b9ac08",
   "metadata": {},
   "source": [
    "## Simulation notes\n",
    "For the simulation, the time is following this convention:\n",
    "1 time unit = 10 ms\n"
   ]
  },
  {
   "cell_type": "code",
   "execution_count": 56,
   "id": "13e79b9a-bf6e-4c8b-b11b-dd518123e1c7",
   "metadata": {},
   "outputs": [
    {
     "name": "stdout",
     "output_type": "stream",
     "text": [
      "0.1\n",
      "0.1\n",
      "0.6\n",
      "1.1\n",
      "1.1\n",
      "2.1\n",
      "1.6\n",
      "3.1\n",
      "2.1\n",
      "4.1\n",
      "2.6\n",
      "5.1\n",
      "3.1\n",
      "6.1\n",
      "3.6\n",
      "7.1\n",
      "4.1\n",
      "8.1\n",
      "4.6\n",
      "9.1\n",
      "5.1\n",
      "10.1\n",
      "0.1\n",
      "0.1\n",
      "0.6\n",
      "1.1\n",
      "1.1\n",
      "2.1\n",
      "1.6\n",
      "3.1\n",
      "2.1\n",
      "4.1\n",
      "2.6\n",
      "5.1\n",
      "3.1\n",
      "6.1\n",
      "3.6\n",
      "7.1\n",
      "4.1\n",
      "8.1\n",
      "4.6\n",
      "9.1\n",
      "5.1\n",
      "10.1\n",
      "0.1\n",
      "0.1\n",
      "0.6\n",
      "1.1\n",
      "1.1\n",
      "2.1\n",
      "1.6\n",
      "3.1\n",
      "2.1\n",
      "4.1\n",
      "2.6\n",
      "5.1\n",
      "3.1\n",
      "6.1\n",
      "3.6\n",
      "7.1\n",
      "4.1\n",
      "8.1\n",
      "4.6\n",
      "9.1\n",
      "5.1\n",
      "10.1\n"
     ]
    }
   ],
   "source": [
    "def epileptor(q, parameters):\n",
    "\n",
    "\tx1,y1,z,x2,y2,g = q\n",
    "\ta1, b1, c1, d1, tau, a2, c2, m, x0, r, s, Irest1, Irest2, Is1, Is2 =\\\n",
    "    parameters['a1'], parameters['b1'], parameters['c1'], parameters['d1'], parameters['tau'], \\\n",
    "    parameters['a2'], parameters['c2'], parameters['m'], parameters['x0'], parameters['r'], \\\n",
    "    parameters['s'], parameters['Irest1'], parameters['Irest2'], parameters['Is1'], parameters['Is2']\n",
    "    \n",
    "    ###################  Population 1 #################\n",
    "\tif x1 < 0:\n",
    "\t\tdx1 = y1  - a1 * (x1)**3  + b1 * (x1)**2 - z + Irest1 + Is1\n",
    "\telse:\n",
    "\t\tdx1 = y1 + (m -x2 + 0.6 * (z-4)**2)*x1- z + Irest1 + Is1\n",
    "\tdy1 = c1 - d1 * (x1)**2 - y1\n",
    "\n",
    "\t################## Population 2 ################### \n",
    "\tdx2 = -y2 + x2 - (x2)**3 + Irest2 + 2*g - c2*(z-3.5) + Is2\n",
    "\tif x2 < -0.25:\n",
    "\t\tdy2 = 1./tau * (-y2)\n",
    "\telse:\n",
    "\t\tdy2 = 1./tau * (-y2 + a2 * (x2 + 0.25 ))\n",
    "\tdg = -0.01 * (g - 0.1*x1);\n",
    "\n",
    "\t################### Energy #####################\"\n",
    "\tdz = r* (s * (x1 - x0) -z)\n",
    "\t#pdb.set_trace()\n",
    "\treturn np.hstack((dx1, dy1, dz, dx2, dy2, dg))\n",
    "\n",
    "\n",
    "Is1a = np.arange(0.1, 5.2, .5)\n",
    "Is2a = np.arange(0.1, 10.2, 1)\n",
    "lx0 = [-2.2, -2.25, -2.3]\n",
    "lllq = []\n",
    "for x0 in lx0:\n",
    "    llq = []\n",
    "    for Is1, Is2 in zip(Is1a, Is2a):\n",
    "        print(Is1)\n",
    "        print(Is2)\n",
    "\n",
    "        # Parameters\n",
    "        parameters = {'a1':1, 'b1':3, 'c1':1, 'd1':5,\n",
    "                      'tau':10, 'a2':6, 'c2':0.3, 'm':0,\n",
    "                      'x0':x0, 'r':0.00005, 's':4,\n",
    "                      'Irest1':3.1, 'Irest2':0.45, 'Is1':0, 'Is2':0}\n",
    "\n",
    "        # Find initial conditions by root solving\n",
    "        q0 = [-1.37, -8.39,  2.92, -0.71,  0.  , -0.14]\n",
    "        q = fsolve(epileptor, q0, args=parameters)\n",
    "\n",
    "        # sim parameters\n",
    "        dt = 0.001\n",
    "        t_sim_init = 200\n",
    "        n_samples_init = int(t_sim_init/dt)\n",
    "        t_sim = 2000\n",
    "        n_samples = int(t_sim/dt)\n",
    "        upsamp = 10\n",
    "        t = np.linspace(0, t_sim, t_sim*upsamp)\n",
    "\n",
    "        # stim parameters\n",
    "        t_start = 25\n",
    "        I_inter = 25\n",
    "        I_duration = .3\n",
    "        n_stim = 1\n",
    "\n",
    "        stim = 1\n",
    "        parameters['Is2'] = 0\n",
    "        for it in range(n_samples_init):\n",
    "            # Runge-Kutta scheme\n",
    "            p1 = epileptor(q, parameters)\n",
    "            p2 = epileptor(q+(dt/2)*p1, parameters)\n",
    "            p3 = epileptor(q+(dt/2)*p2, parameters)\n",
    "            p4 = epileptor(q+(dt/2)*p3, parameters)\n",
    "            q += dt/6 * (p1+2*p2+2*p3+p4)\n",
    "\n",
    "        lq = []\n",
    "        for it in range(n_samples):\n",
    "            # if it%10000==0:\n",
    "            #     print(it)\n",
    "            tc = it*dt\n",
    "\n",
    "            tstim = 0\n",
    "            if stim:\n",
    "                for i_stim in range(n_stim):\n",
    "                    if tc>=t_start + i_stim*I_duration + i_stim*I_inter and tc<t_start + (i_stim+1)*I_duration + i_stim*I_inter:\n",
    "                        tstim = 1\n",
    "            if tstim:\n",
    "                parameters['Is1'] = Is1\n",
    "                parameters['Is2'] = Is2\n",
    "            else:\n",
    "                parameters['Is1'] = 0\n",
    "                parameters['Is2'] = 0\n",
    "\n",
    "            # Runge-Kutta scheme\n",
    "            p1 = epileptor(q, parameters)\n",
    "            p2 = epileptor(q+(dt/2)*p1, parameters)\n",
    "            p3 = epileptor(q+(dt/2)*p2, parameters)\n",
    "            p4 = epileptor(q+(dt/2)*p3, parameters)\n",
    "            q += dt/6 * (p1+2*p2+2*p3+p4)\n",
    "\n",
    "            if it%int(1/(upsamp*dt))==0:\n",
    "                lq.append(q.copy())\n",
    "                \n",
    "        llq.append(lq)\n",
    "    lllq.append(llq)\n",
    "lllq = np.array(lllq)"
   ]
  },
  {
   "cell_type": "code",
   "execution_count": 57,
   "id": "f3f7c8c8-b97f-4522-aacd-2b3448c25ca1",
   "metadata": {},
   "outputs": [
    {
     "data": {
      "text/plain": [
       "(3, 11, 20000, 6)"
      ]
     },
     "execution_count": 57,
     "metadata": {},
     "output_type": "execute_result"
    }
   ],
   "source": [
    "lllq.shape"
   ]
  },
  {
   "cell_type": "markdown",
   "id": "5419db5c-fe1a-4a6c-a3a5-d1776fa5ec6a",
   "metadata": {},
   "source": [
    "### Time series"
   ]
  },
  {
   "cell_type": "code",
   "execution_count": 100,
   "id": "48ccedbf-e534-438a-b293-79801f98c668",
   "metadata": {},
   "outputs": [
    {
     "data": {
      "image/png": "[encoded data removed]",
      "text/plain": [
       "<Figure size 432x288 with 1 Axes>"
      ]
     },
     "metadata": {
      "needs_background": "light"
     },
     "output_type": "display_data"
    }
   ],
   "source": [
    "cm = sns.color_palette(as_cmap=True)\n",
    "ts = -lllq[:, :, :, 0] + lllq[:, :, :, 3]\n",
    "plt.figure()\n",
    "for ix0, x0 in enumerate(lx0):\n",
    "    iIs2 = int(np.where(Is2a==2.1)[0])\n",
    "    # time in seconds\n",
    "    plt.plot(t/100, ts[ix0, iIs2], color=cm[ix0])\n",
    "plt.xlim([0, .75])\n",
    "plt.xticks([0, .25, .5, .75], [-250, 0, 250, 500])\n",
    "plt.ylim([0.1, 2.1])\n",
    "plt.xlabel('Time [m]')\n",
    "plt.ylabel('Cortical response [a.u.U]')\n",
    "plt.savefig('figures/single_stim_diff_exc_time_series.svg')"
   ]
  },
  {
   "cell_type": "markdown",
   "id": "e96d92a0-56e0-4f82-b2e2-0dae5c367049",
   "metadata": {},
   "source": [
    "### LL as a function of stimulation amplitude"
   ]
  },
  {
   "cell_type": "code",
   "execution_count": 107,
   "id": "acbcb00d-24c1-402f-b3af-d9e1827cf17a",
   "metadata": {},
   "outputs": [
    {
     "data": {
      "image/png": "[encoded data removed]",
      "text/plain": [
       "<Figure size 432x288 with 1 Axes>"
      ]
     },
     "metadata": {
      "needs_background": "light"
     },
     "output_type": "display_data"
    }
   ],
   "source": [
    "from scipy.integrate import simps\n",
    "\n",
    "plt.figure()\n",
    "for ix0, x0 in enumerate(lx0):\n",
    "    t_stim_onsets= []\n",
    "    for iIs2 in range(ts.shape[1]):\n",
    "        tc = (t_start + i_stim*I_duration + i_stim*I_inter)*upsamp\n",
    "        t_stim_onsets.append(tc)\n",
    "\n",
    "    dif = []\n",
    "    for iIs2 in range(ts.shape[1]):\n",
    "        dif.append(np.sum(np.abs(np.diff(ts[ix0, iIs2, int(t_stim_onsets[iIs2]):int(t_stim_onsets[iIs2]+25*upsamp)]))))\n",
    "\n",
    "    plt.plot(Is2a, dif, color=cm[ix0], label='AUC: '+ str(np.round(simps(dif, Is2a), 2)))\n",
    "    # plt.xticks(range(len(dif)), np.round(lx0, 2))\n",
    "plt.xlim([0, 5.])\n",
    "plt.ylim([0, 5.])\n",
    "plt.xticks([0, 2.5, 5], [0.0, 0.5, 1.0])\n",
    "plt.yticks([0, 2.5, 5], [0.0, 0.5, 1.0])\n",
    "plt.ylabel('Cortical resopnse, line length [a.u.]')\n",
    "plt.xlabel('Stimulation intensity [a.u.]')\n",
    "plt.legend()\n",
    "plt.savefig('figures/single_stim_diff_exc_LL_vs_stim_amp.svg')"
   ]
  }
 ],
 "metadata": {
  "kernelspec": {
   "display_name": "Python 3 (ipykernel)",
   "language": "python",
   "name": "python3"
  },
  "language_info": {
   "codemirror_mode": {
    "name": "ipython",
    "version": 3
   },
   "file_extension": ".py",
   "mimetype": "text/x-python",
   "name": "python",
   "nbconvert_exporter": "python",
   "pygments_lexer": "ipython3",
   "version": "3.11.4"
  }
 },
 "nbformat": 4,
 "nbformat_minor": 5
}
