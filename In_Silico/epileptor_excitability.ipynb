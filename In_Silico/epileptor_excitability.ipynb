{
 "cells": [
  {
   "cell_type": "code",
   "execution_count": 1,
   "id": "a2ed91d0-6748-409f-8081-78e7a421f8e8",
   "metadata": {},
   "outputs": [],
   "source": [
    "import numpy as np\n",
    "import matplotlib.pyplot as plt\n",
    "from scipy.optimize import fsolve\n",
    "import seaborn as sns\n",
    "cm = sns.color_palette(as_cmap=True)"
   ]
  },
  {
   "cell_type": "markdown",
   "id": "1763f7e4-03f3-4a89-bbd7-c45f52553559",
   "metadata": {},
   "source": [
    "## Model equations\n",
    "$$ \\begin{array}\n",
    "   \\dot{x}_{1} &=& y_{1}-f_{1}(x_{1},x_{2})-z+I_{1}\\\\\n",
    "   \\dot{y}_{1} &=& y_{0}-5x_{1}^{2}-y_{1} \\\\\n",
    "   \\dot{z} &=& \\frac{1}{\\tau_{0}}(x_{1}-z)\\\\\n",
    "   \\dot{x}_{2} &=& -y_{2}+x_{2}-x_{2}^{3}+I_{2}+0.002g(x_{1})-0.3(z-3.5)\\\\\n",
    "   \\dot{y}_{2} &=& \\frac{1}{\\tau_{2}}(-y_{2}+f_{2}(x_{2}))\n",
    "   \\end{array}\n",
    "$$\n",
    "\n",
    "with:\n",
    "$$ g(x_{1})=\\intop_{t_{0}}^{t}e^{-\\gamma(t-\\tau)}x_{1}(\\tau)d\\tau $$\n",
    "$$ f_{1}(x_{1},x_{2})=\n",
    "                        \\begin{cases}\n",
    "                        x_{1}^{3}-3x_{1}^{2} & \\textrm{if}\\,\\,x_{1}<0\\\\\n",
    "                        (x_{2}-0.6(z-4)^{2})x_{1} & \\textrm{if}\\,\\,x_{1}\\geq0\n",
    "                        \\end{cases}\n",
    "$$\n",
    "$$f_{2}(x_{1},x_{2})=\n",
    "                        \\begin{cases}\n",
    "                        0 & \\textrm{if}\\,\\,x_{2}<-0.25\\\\\n",
    "                        6(x_{2}+0.25)x_{1} & \\textrm{if}\\,\\,x_{2}\\geq-0.25\n",
    "                        \\end{cases}\n",
    "$$\n",
    "\n",
    "Stimulation occurs on $I_1$ and $I_2$ simultaneously"
   ]
  },
  {
   "cell_type": "markdown",
   "id": "077ec2df-dfe0-4883-af4c-8210f6b9ac08",
   "metadata": {},
   "source": [
    "## Simulation notes\n",
    "For all the simulations, we follow this convention:\n",
    "1 time unit = 10 ms\n"
   ]
  },
  {
   "cell_type": "code",
   "execution_count": 8,
   "id": "caf5ccd6-0eea-4979-8de1-884f90adecd4",
   "metadata": {},
   "outputs": [
    {
     "name": "stdout",
     "output_type": "stream",
     "text": [
      "-1.9\n",
      "-1.91\n",
      "-1.92\n",
      "-1.93\n",
      "-1.94\n",
      "-1.95\n",
      "-1.96\n",
      "-1.97\n",
      "-1.98\n",
      "-1.99\n",
      "-2.0\n",
      "-2.01\n",
      "-2.02\n",
      "-2.0300000000000002\n",
      "-2.04\n",
      "-2.05\n",
      "-2.06\n",
      "-2.0700000000000003\n",
      "-2.08\n",
      "-2.09\n",
      "-2.1\n"
     ]
    }
   ],
   "source": [
    "def epileptor(q, parameters):\n",
    "\n",
    "\tx1,y1,z,x2,y2,g = q\n",
    "\ta1, b1, c1, d1, tau, a2, c2, m, x0, r, s, Irest1, Irest2, Is1, Is2 =\\\n",
    "    parameters['a1'], parameters['b1'], parameters['c1'], parameters['d1'], parameters['tau'], \\\n",
    "    parameters['a2'], parameters['c2'], parameters['m'], parameters['x0'], parameters['r'], \\\n",
    "    parameters['s'], parameters['Irest1'], parameters['Irest2'], parameters['Is1'], parameters['Is2']\n",
    "    \n",
    "    ###################  Population 1 #################\n",
    "\tif x1 < 0:\n",
    "\t\tdx1 = y1  - a1 * (x1)**3  + b1 * (x1)**2 - z + Irest1 + Is1\n",
    "\telse:\n",
    "\t\tdx1 = y1 + (m -x2 + 0.6 * (z-4)**2)*x1- z + Irest1 + Is1\n",
    "\tdy1 = c1 - d1 * (x1)**2 - y1\n",
    "\n",
    "\t################## Population 2 ################### \n",
    "\tdx2 = -y2 + x2 - (x2)**3 + Irest2 + 2*g - c2*(z-3.5) + Is2\n",
    "\tif x2 < -0.25:\n",
    "\t\tdy2 = 1./tau * (-y2)\n",
    "\telse:\n",
    "\t\tdy2 = 1./tau * (-y2 + a2 * (x2 + 0.25 ))\n",
    "\tdg = -0.01 * (g - 0.1*x1);\n",
    "\n",
    "\t################### Energy #####################\"\n",
    "\tdz = r* (s * (x1 - x0) -z)\n",
    "\t#pdb.set_trace()\n",
    "\treturn np.hstack((dx1, dy1, dz, dx2, dy2, dg))\n",
    "\n",
    "\n",
    "lx0 = np.arange(-1.9, -2.1, -0.01)\n",
    "llq = []\n",
    "for x0 in lx0:\n",
    "    print(x0)\n",
    "\n",
    "    # Parameters\n",
    "    parameters = {'a1':1, 'b1':3, 'c1':1, 'd1':5,\n",
    "                  'tau':10, 'a2':6, 'c2':0.3, 'm':0,\n",
    "                  'x0':x0, 'r':0.00005, 's':4,\n",
    "                  'Irest1':3.1, 'Irest2':0.45, 'Is1':0, 'Is2':0} # 0.00035\n",
    "\n",
    "    # Find initial conditions by root solving\n",
    "    q0 = [-1.37, -8.39,  2.92, -0.71,  0.  , -0.14]\n",
    "    q = fsolve(epileptor, q0, args=parameters)\n",
    "\n",
    "    # sim parameters\n",
    "    dt = 0.001\n",
    "    t_sim_init = 1000\n",
    "    n_samples_init = int(t_sim_init/dt)\n",
    "    t_sim = 10000\n",
    "    n_samples = int(t_sim/dt)\n",
    "    upsamp = 10\n",
    "    t = np.linspace(0, t_sim, t_sim * upsamp)\n",
    "\n",
    "    for it in range(n_samples_init):\n",
    "        # Runge-Kutta scheme\n",
    "        p1 = epileptor(q, parameters)\n",
    "        p2 = epileptor(q+(dt/2)*p1, parameters)\n",
    "        p3 = epileptor(q+(dt/2)*p2, parameters)\n",
    "        p4 = epileptor(q+(dt/2)*p3, parameters)\n",
    "        q += dt/6 * (p1+2*p2+2*p3+p4)\n",
    "\n",
    "    lq = []\n",
    "    for it in range(n_samples):\n",
    "        # if it%10000==0:\n",
    "        #     print(it)\n",
    "        tc = it*dt\n",
    "\n",
    "        # Runge-Kutta scheme\n",
    "        p1 = epileptor(q, parameters)\n",
    "        p2 = epileptor(q+(dt/2)*p1, parameters)\n",
    "        p3 = epileptor(q+(dt/2)*p2, parameters)\n",
    "        p4 = epileptor(q+(dt/2)*p3, parameters)\n",
    "        q += dt/6 * (p1+2*p2+2*p3+p4)\n",
    "        \n",
    "        if it%int(1/(upsamp*dt))==0:\n",
    "            lq.append(q.copy())\n",
    "    llq.append(lq)\n",
    "\n",
    "llq = np.array(llq)"
   ]
  },
  {
   "cell_type": "markdown",
   "id": "ebec4722-e588-4bcc-9aa9-409bc2ff0251",
   "metadata": {},
   "source": [
    "### Time series"
   ]
  },
  {
   "cell_type": "code",
   "execution_count": 11,
   "id": "76cd354e-31be-4001-ab67-24be05f8065d",
   "metadata": {},
   "outputs": [
    {
     "data": {
      "image/png": "[encoded data removed]",
      "text/plain": [
       "<Figure size 432x288 with 1 Axes>"
      ]
     },
     "metadata": {
      "needs_background": "light"
     },
     "output_type": "display_data"
    }
   ],
   "source": [
    "ts = -llq[:, :, 0] + llq[:, :, 3]\n",
    "plt.figure()\n",
    "for ix0 in range(len(lx0)):\n",
    "    plt.plot(t/100, ts[ix0] + 2*ix0, 'k')\n",
    "#plt.xlim([0, 1])\n",
    "plt.yticks(2*np.arange(len(lx0)), np.round(lx0, 2))\n",
    "plt.xlabel('Time [s]')\n",
    "plt.ylabel('Amplitude [AU]')\n",
    "plt.savefig('figures/stability_without_stim.svg')"
   ]
  }
 ],
 "metadata": {
  "kernelspec": {
   "display_name": "Python 3 (ipykernel)",
   "language": "python",
   "name": "python3"
  },
  "language_info": {
   "codemirror_mode": {
    "name": "ipython",
    "version": 3
   },
   "file_extension": ".py",
   "mimetype": "text/x-python",
   "name": "python",
   "nbconvert_exporter": "python",
   "pygments_lexer": "ipython3",
   "version": "3.9.16"
  }
 },
 "nbformat": 4,
 "nbformat_minor": 5
}
