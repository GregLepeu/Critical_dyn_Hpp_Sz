{
 "cells": [
  {
   "cell_type": "code",
   "execution_count": 1,
   "id": "a2ed91d0-6748-409f-8081-78e7a421f8e8",
   "metadata": {},
   "outputs": [],
   "source": [
    "import numpy as np\n",
    "import matplotlib.pyplot as plt\n",
    "from scipy.optimize import fsolve\n",
    "import seaborn as sns\n",
    "cm = sns.color_palette(as_cmap=True)"
   ]
  },
  {
   "cell_type": "markdown",
   "id": "077ec2df-dfe0-4883-af4c-8210f6b9ac08",
   "metadata": {
    "jp-MarkdownHeadingCollapsed": true,
    "tags": []
   },
   "source": [
    "## Simulation notes\n",
    "For the simulation, the time is following this convention:\n",
    "1 time unit = 10 ms\n"
   ]
  },
  {
   "cell_type": "markdown",
   "id": "039a1c96-5a04-435b-ba22-7c24a0f58ac4",
   "metadata": {},
   "source": [
    "## Single stimulation for different excitabilities with inhibitory stimulation\n",
    "<a name=\"single_stim_single_exc\"></a>\n",
    "Simulation of a train pulse stimulation with different exctabilities\n"
   ]
  },
  {
   "cell_type": "code",
   "execution_count": 37,
   "id": "13e79b9a-bf6e-4c8b-b11b-dd518123e1c7",
   "metadata": {},
   "outputs": [
    {
     "name": "stdout",
     "output_type": "stream",
     "text": [
      "4.7\n",
      "160\n",
      "320\n",
      "2.2\n",
      "160\n",
      "320\n"
     ]
    }
   ],
   "source": [
    "def epileptor(q, parameters):\n",
    "\n",
    "\tx1,y1,z,x2,y2,g = q\n",
    "\ta1, b1, c1, d1, tau, a2, c2, m, x0, r, s, Irest1, Irest2, Is1, Is2 =\\\n",
    "    parameters['a1'], parameters['b1'], parameters['c1'], parameters['d1'], parameters['tau'], \\\n",
    "    parameters['a2'], parameters['c2'], parameters['m'], parameters['x0'], parameters['r'], \\\n",
    "    parameters['s'], parameters['Irest1'], parameters['Irest2'], parameters['Is1'], parameters['Is2']\n",
    "    \n",
    "    ###################  Population 1 #################\n",
    "\tif x1 < 0:\n",
    "\t\tdx1 = y1  - a1 * (x1)**3  + b1 * (x1)**2 - z + Irest1 + Is1\n",
    "\telse:\n",
    "\t\tdx1 = y1 + (m -x2 + 0.6 * (z-4)**2)*x1- z + Irest1 + Is1\n",
    "\tdy1 = c1 - d1 * (x1)**2 - y1\n",
    "\n",
    "\t################## Population 2 ################### \n",
    "\tdx2 = -y2 + x2 - (x2)**3 + Irest2 + 2*g - c2*(z-3.5) + Is2\n",
    "\tif x2 < -0.25:\n",
    "\t\tdy2 = 1./tau * (-y2)\n",
    "\telse:\n",
    "\t\tdy2 = 1./tau * (-y2 + a2 * (x2 + 0.25 ))\n",
    "\tdg = -0.01 * (g - 0.1*x1);\n",
    "\n",
    "\t################### Energy #####################\"\n",
    "\tdz = r* (s * (x1 - x0) -z)\n",
    "\t#pdb.set_trace()\n",
    "\treturn np.hstack((dx1, dy1, dz, dx2, dy2, dg))\n",
    "\n",
    "\n",
    "# sim parameters\n",
    "dt = 0.001\n",
    "t_sim_init = 1000\n",
    "n_samples_init = int(t_sim_init/dt)\n",
    "t_sim = 1600\n",
    "n_samples = int(t_sim/dt)\n",
    "upsamp = 10\n",
    "t = np.linspace(0, t_sim, t_sim*upsamp)\n",
    "\n",
    "# stim parameters\n",
    "t_start = 400\n",
    "I_duration = .3\n",
    "Is1 = -2\n",
    "Is2 = -5\n",
    "        \n",
    "# 8 seconds at 20Hz and 8 seconds at 40Hz\n",
    "lI_inter = np.array([5, 2.5]) - I_duration\n",
    "ln_stim = np.array([20*8, 40*8])\n",
    "lllq = []\n",
    "for I_inter in lI_inter:\n",
    "    print(I_inter)\n",
    "    llq = []\n",
    "    for n_stim in ln_stim:\n",
    "        print(n_stim)\n",
    "\n",
    "        # Parameters\n",
    "        parameters = {'a1':1, 'b1':3, 'c1':1, 'd1':5,\n",
    "                      'tau':10, 'a2':6, 'c2':0.3, 'm':0,\n",
    "                      'x0':-2.25, 'r':0.00005, 's':4,\n",
    "                      'Irest1':3.1, 'Irest2':0.45, 'Is1':0, 'Is2':0}\n",
    "\n",
    "        # Find initial conditions by root solving\n",
    "        q0 = [-1.37, -8.39,  2.92, -0.71,  0.  , -0.14]\n",
    "        q = fsolve(epileptor, q0, args=parameters)\n",
    "\n",
    "        stim = 1\n",
    "        parameters['Is2'] = 0\n",
    "        for it in range(n_samples_init):\n",
    "            # Runge-Kutta scheme\n",
    "            p1 = epileptor(q, parameters)\n",
    "            p2 = epileptor(q+(dt/2)*p1, parameters)\n",
    "            p3 = epileptor(q+(dt/2)*p2, parameters)\n",
    "            p4 = epileptor(q+(dt/2)*p3, parameters)\n",
    "            q += dt/6 * (p1+2*p2+2*p3+p4)\n",
    "\n",
    "        lq = []\n",
    "        for it in range(n_samples):\n",
    "            # if it%10000==0:\n",
    "            #     print(it)\n",
    "            tc = it*dt\n",
    "\n",
    "            tstim = 0\n",
    "            if stim:\n",
    "                for i_stim in range(n_stim):\n",
    "                    if tc>=t_start + i_stim*I_duration + i_stim*I_inter and tc<t_start + (i_stim+1)*I_duration + i_stim*I_inter:\n",
    "                        tstim = 1\n",
    "            if tstim:\n",
    "                parameters['Is2'] = Is2\n",
    "                parameters['Is1'] = Is1\n",
    "            else:\n",
    "                parameters['Is1'] = 0\n",
    "                parameters['Is2'] = 0\n",
    "\n",
    "            # Runge-Kutta scheme\n",
    "            p1 = epileptor(q, parameters)\n",
    "            p2 = epileptor(q+(dt/2)*p1, parameters)\n",
    "            p3 = epileptor(q+(dt/2)*p2, parameters)\n",
    "            p4 = epileptor(q+(dt/2)*p3, parameters)\n",
    "            q += dt/6 * (p1+2*p2+2*p3+p4)\n",
    "\n",
    "            if it%int(1/(upsamp*dt))==0:\n",
    "                lq.append(q.copy())\n",
    "        llq.append(lq)\n",
    "    lllq.append(llq)\n",
    "lllq = np.array(lllq)"
   ]
  },
  {
   "cell_type": "code",
   "execution_count": 38,
   "id": "f3f7c8c8-b97f-4522-aacd-2b3448c25ca1",
   "metadata": {},
   "outputs": [],
   "source": [
    "lllq.shape\n",
    "lfreq_stim = np.round(100/(np.array(lI_inter+I_duration))) # from 10 ms time step I_inter to freq"
   ]
  },
  {
   "cell_type": "markdown",
   "id": "5419db5c-fe1a-4a6c-a3a5-d1776fa5ec6a",
   "metadata": {},
   "source": [
    "### Time series"
   ]
  },
  {
   "cell_type": "code",
   "execution_count": 39,
   "id": "3d167eb2-fdc5-4d59-87ba-570be7ca8cf5",
   "metadata": {},
   "outputs": [
    {
     "data": {
      "text/plain": [
       "(12, 5, 20000)"
      ]
     },
     "execution_count": 39,
     "metadata": {},
     "output_type": "execute_result"
    }
   ],
   "source": [
    "ts.shape"
   ]
  },
  {
   "cell_type": "code",
   "execution_count": 47,
   "id": "48ccedbf-e534-438a-b293-79801f98c668",
   "metadata": {},
   "outputs": [
    {
     "data": {
      "image/png": "[encoded data removed]",
      "text/plain": [
       "<Figure size 936x360 with 2 Axes>"
      ]
     },
     "metadata": {
      "needs_background": "light"
     },
     "output_type": "display_data"
    }
   ],
   "source": [
    "ts = -lllq[:, :, :, 0] + lllq[:, :, :, 3]\n",
    "plt.figure(figsize=(13, 5))\n",
    "plt.subplot(1, 2, 1)\n",
    "plt.plot(t/100, ts[0, 0], color='k')\n",
    "# plt.xlim([0, 1])\n",
    "# plt.ylim([0, 2.5])\n",
    "plt.xlabel('Time [s]')\n",
    "plt.ylabel('Amplitude [AU]')\n",
    "plt.subplot(1, 2, 2)\n",
    "plt.plot(t/100, ts[1, 1], color='k')\n",
    "#plt.xlim([0, 1])\n",
    "# plt.ylim([0, 2.5])\n",
    "plt.xlabel('Time [s]')\n",
    "plt.ylabel('Amplitude [AU]')\n",
    "plt.tight_layout()\n",
    "plt.savefig('figures/train_stim_inhi_time_series.svg')"
   ]
  }
 ],
 "metadata": {
  "kernelspec": {
   "display_name": "Python 3 (ipykernel)",
   "language": "python",
   "name": "python3"
  },
  "language_info": {
   "codemirror_mode": {
    "name": "ipython",
    "version": 3
   },
   "file_extension": ".py",
   "mimetype": "text/x-python",
   "name": "python",
   "nbconvert_exporter": "python",
   "pygments_lexer": "ipython3",
   "version": "3.9.16"
  }
 },
 "nbformat": 4,
 "nbformat_minor": 5
}
